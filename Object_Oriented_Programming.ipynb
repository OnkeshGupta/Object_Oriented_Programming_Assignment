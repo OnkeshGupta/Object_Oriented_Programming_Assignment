{
  "nbformat": 4,
  "nbformat_minor": 0,
  "metadata": {
    "colab": {
      "provenance": [],
      "authorship_tag": "ABX9TyMX+eyKs+pNfYyn7eHYrs/t",
      "include_colab_link": true
    },
    "kernelspec": {
      "name": "python3",
      "display_name": "Python 3"
    },
    "language_info": {
      "name": "python"
    }
  },
  "cells": [
    {
      "cell_type": "markdown",
      "metadata": {
        "id": "view-in-github",
        "colab_type": "text"
      },
      "source": [
        "<a href=\"https://colab.research.google.com/github/OnkeshGupta/Object_Oriented_Programming_Assignment/blob/main/Object_Oriented_Programming.ipynb\" target=\"_parent\"><img src=\"https://colab.research.google.com/assets/colab-badge.svg\" alt=\"Open In Colab\"/></a>"
      ]
    },
    {
      "cell_type": "markdown",
      "source": [
        "Q1. Explain the importance of Functions"
      ],
      "metadata": {
        "id": "0AHFMzgxLf5h"
      }
    },
    {
      "cell_type": "markdown",
      "source": [
        "\n",
        "\n",
        "*   Functions are a block of code in a program that can be called again and again by a programmer.\n",
        "\n",
        "*   It helps to organize and structure the code in a better way.\n",
        "\n",
        "\n",
        "*   It reduces code duplication. Write a function once and call it as many times you want.\n",
        "*   It reduces time and make code more readable.\n",
        "\n",
        "*   It makes code more modular and maintainable.\n",
        "*   It enables abstraction i.e. only necessary imformation is made available to the user.\n",
        "\n",
        "\n",
        "\n",
        "\n",
        "\n",
        "\n",
        "\n"
      ],
      "metadata": {
        "id": "VZO4jQB_LlSn"
      }
    },
    {
      "cell_type": "markdown",
      "source": [
        "Q2. Write a basic function to greet students"
      ],
      "metadata": {
        "id": "L5OJcrhcM-TG"
      }
    },
    {
      "cell_type": "code",
      "source": [
        "def greet(name):\n",
        "  print(f\"Hello {name}, Have a great day!\")\n",
        "\n",
        "greet(\"Onkesh\")"
      ],
      "metadata": {
        "colab": {
          "base_uri": "https://localhost:8080/"
        },
        "id": "YuKYyHvxNB9K",
        "outputId": "5d798c4f-84e5-4a34-f9be-ef04cc44f673"
      },
      "execution_count": null,
      "outputs": [
        {
          "output_type": "stream",
          "name": "stdout",
          "text": [
            "Hello Onkesh, Have a great day!\n"
          ]
        }
      ]
    },
    {
      "cell_type": "markdown",
      "source": [
        "Q3. What is the difference between print and return statements?"
      ],
      "metadata": {
        "id": "eWTXuBL3NbDm"
      }
    },
    {
      "cell_type": "markdown",
      "source": [
        "A print statement is used to display output to console whereas a return statement is used to exit a function and return a value."
      ],
      "metadata": {
        "id": "4hx--tnxQABN"
      }
    },
    {
      "cell_type": "markdown",
      "source": [
        "Q4. What are \\*args and **kwargs?"
      ],
      "metadata": {
        "id": "xSxsRThQQq3B"
      }
    },
    {
      "cell_type": "markdown",
      "source": [
        "\\*args is used to take in a variable number of arguments. These are also called non-keyword arguments.\n",
        "\n",
        "**kwargs is used to pass a keyworded and variable length argument list. It returns a key-value pair and are known as keyword arguments."
      ],
      "metadata": {
        "id": "tZ3DXKgcQxyx"
      }
    },
    {
      "cell_type": "markdown",
      "source": [
        "Q5. Explain the iterator function"
      ],
      "metadata": {
        "id": "VIE06oD0RoHg"
      }
    },
    {
      "cell_type": "markdown",
      "source": [
        "An iterator in python is an object that is used to iterate over iterable objects like lists, tuples, dictonaries etc. It is initialized using iter() function and uses next() method for iteration."
      ],
      "metadata": {
        "id": "3ud4bdlyRtyQ"
      }
    },
    {
      "cell_type": "markdown",
      "source": [
        "Q6. Write a code that generates the squares of numbers from 1 to n using a generator"
      ],
      "metadata": {
        "id": "rdo97sB4SPd0"
      }
    },
    {
      "cell_type": "code",
      "source": [
        "def number_square(n):\n",
        "  for i in range(1, n+1):\n",
        "    yield i*i\n",
        "\n",
        "n = int(input(\"Enter the number:\"))\n",
        "print(\"Square of numbers is...\")\n",
        "for i in number_square(n):\n",
        "  print(i)"
      ],
      "metadata": {
        "id": "r7MaCr2lSYsD",
        "colab": {
          "base_uri": "https://localhost:8080/"
        },
        "outputId": "2edf50dd-5720-4817-e11e-7e92a508b78f"
      },
      "execution_count": null,
      "outputs": [
        {
          "output_type": "stream",
          "name": "stdout",
          "text": [
            "Enter the number:3\n",
            "Square of numbers is...\n",
            "1\n",
            "4\n",
            "9\n"
          ]
        }
      ]
    },
    {
      "cell_type": "markdown",
      "source": [
        "Q7. Write a code that generates palindromic numbers up to n using a generator"
      ],
      "metadata": {
        "id": "2nWAfTGzRiPX"
      }
    },
    {
      "cell_type": "code",
      "source": [
        "def palindrome(n):\n",
        "  for i in range(1, n+1):\n",
        "    if str(i) == str(i)[::-1]:\n",
        "      yield i\n",
        "\n",
        "n = int(input(\"Enter n:\"))\n",
        "print(\"Palindrome numbers are...\")\n",
        "for i in palindrome(n):\n",
        "  print(i)"
      ],
      "metadata": {
        "colab": {
          "base_uri": "https://localhost:8080/"
        },
        "id": "TDb7TTKGRnEC",
        "outputId": "97cb819c-c4ad-4b91-d416-8df0e4a2babe"
      },
      "execution_count": null,
      "outputs": [
        {
          "output_type": "stream",
          "name": "stdout",
          "text": [
            "Enter n:100\n",
            "Palindrome numbers are...\n",
            "1\n",
            "2\n",
            "3\n",
            "4\n",
            "5\n",
            "6\n",
            "7\n",
            "8\n",
            "9\n",
            "11\n",
            "22\n",
            "33\n",
            "44\n",
            "55\n",
            "66\n",
            "77\n",
            "88\n",
            "99\n"
          ]
        }
      ]
    },
    {
      "cell_type": "markdown",
      "source": [
        "Q8. Write a code that generates even numbers from 2 to n using a generator"
      ],
      "metadata": {
        "id": "swQNcS-bTEwv"
      }
    },
    {
      "cell_type": "code",
      "source": [
        "def even_numbers(n):\n",
        "  for i in range(2, n+1, 2):\n",
        "    yield i\n",
        "\n",
        "n = int(input(\"Enter n:\"))\n",
        "print(\"Even numbers are...\")\n",
        "for i in even_numbers(n):\n",
        "  print(i)"
      ],
      "metadata": {
        "colab": {
          "base_uri": "https://localhost:8080/"
        },
        "id": "QB8uzGhkTMhA",
        "outputId": "ddf03ec1-d668-4832-8602-cea275d44585"
      },
      "execution_count": null,
      "outputs": [
        {
          "output_type": "stream",
          "name": "stdout",
          "text": [
            "Enter n:8\n",
            "Even numbers are...\n",
            "2\n",
            "4\n",
            "6\n",
            "8\n"
          ]
        }
      ]
    },
    {
      "cell_type": "markdown",
      "source": [
        "Q9. Write a code that generates powers of two up to n using a generator"
      ],
      "metadata": {
        "id": "LDEPrk9lTzWW"
      }
    },
    {
      "cell_type": "code",
      "source": [
        "def powers(n):\n",
        "  for i in range(n+1):\n",
        "    yield 2**i\n",
        "\n",
        "n = int(input(\"Enter number:\"))\n",
        "print(\"Powers of two are...\")\n",
        "for i in powers(n):\n",
        "  print(i)"
      ],
      "metadata": {
        "colab": {
          "base_uri": "https://localhost:8080/"
        },
        "id": "kTTd1wF-UCPU",
        "outputId": "9252c56a-4156-4519-f8c2-3ab41870591b"
      },
      "execution_count": null,
      "outputs": [
        {
          "output_type": "stream",
          "name": "stdout",
          "text": [
            "Enter number:10\n",
            "Powers of two are...\n",
            "1\n",
            "2\n",
            "4\n",
            "8\n",
            "16\n",
            "32\n",
            "64\n",
            "128\n",
            "256\n",
            "512\n",
            "1024\n"
          ]
        }
      ]
    },
    {
      "cell_type": "markdown",
      "source": [
        "Q10. Write a code that generates prime numbers up to n using a generator"
      ],
      "metadata": {
        "id": "ewMrmOdAVw0a"
      }
    },
    {
      "cell_type": "code",
      "source": [
        "def isPrime(n):\n",
        "  if n <= 1:\n",
        "    return False\n",
        "  for i in range(2, n):\n",
        "    if n % i == 0:\n",
        "      return False\n",
        "  return True\n",
        "\n",
        "def prime_numbers(n):\n",
        "  for i in range(2, n+1):\n",
        "    if(isPrime(i)):\n",
        "      yield i\n",
        "\n",
        "n = int(input(\"Enter n:\"))\n",
        "print(\"Prime numbers are...\")\n",
        "for i in prime_numbers(n):\n",
        "  print(i)"
      ],
      "metadata": {
        "colab": {
          "base_uri": "https://localhost:8080/"
        },
        "id": "Jy-1LaHlV0Qg",
        "outputId": "e0ecbe5b-8a7d-458d-9b17-308fcd42a0a3"
      },
      "execution_count": null,
      "outputs": [
        {
          "output_type": "stream",
          "name": "stdout",
          "text": [
            "Enter n:50\n",
            "Prime numbers are...\n",
            "2\n",
            "3\n",
            "5\n",
            "7\n",
            "11\n",
            "13\n",
            "17\n",
            "19\n",
            "23\n",
            "29\n",
            "31\n",
            "37\n",
            "41\n",
            "43\n",
            "47\n"
          ]
        }
      ]
    },
    {
      "cell_type": "markdown",
      "source": [
        "Q11. Write a code that uses a lambda function to calculate the sum of two numbers"
      ],
      "metadata": {
        "id": "Udz7wkk-cSfI"
      }
    },
    {
      "cell_type": "code",
      "source": [
        "sum = lambda a, b: a + b\n",
        "a = int(input(\"Enter a:\"))\n",
        "b = int(input(\"Enter b:\"))\n",
        "print(f\"Sum is {sum(a, b)}\")"
      ],
      "metadata": {
        "colab": {
          "base_uri": "https://localhost:8080/"
        },
        "id": "Lge5zN9ScXGi",
        "outputId": "9b81049e-14f3-4aaf-a78d-ffb7ea29915f"
      },
      "execution_count": null,
      "outputs": [
        {
          "output_type": "stream",
          "name": "stdout",
          "text": [
            "Enter a:12\n",
            "Enter b:34\n",
            "Sum is 46\n"
          ]
        }
      ]
    },
    {
      "cell_type": "markdown",
      "source": [
        "Q12. Write a code that uses a lambda function to calculate the square of a given number"
      ],
      "metadata": {
        "id": "PmVqn-Zyc4Yw"
      }
    },
    {
      "cell_type": "code",
      "source": [
        "square = lambda x: x**2\n",
        "x = int(input(\"Enter x:\"))\n",
        "print(f\"Square of {x} is {square(x)}\")"
      ],
      "metadata": {
        "colab": {
          "base_uri": "https://localhost:8080/"
        },
        "id": "WS6oOeD7c80I",
        "outputId": "e4da2e0e-52e1-45ba-b802-cd4705498586"
      },
      "execution_count": null,
      "outputs": [
        {
          "output_type": "stream",
          "name": "stdout",
          "text": [
            "Enter x:2\n",
            "Square of 2 is 4\n"
          ]
        }
      ]
    },
    {
      "cell_type": "markdown",
      "source": [
        "Q13. Write a code that uses a lambda function to check whether a given number is even or odd"
      ],
      "metadata": {
        "id": "MyD2X0n7dy0N"
      }
    },
    {
      "cell_type": "code",
      "source": [
        "check = lambda x: \"Even\" if x%2 == 0 else \"False\"\n",
        "n = int(input(\"Enter the number:\"))\n",
        "print(f\"{n} is {check(n)}\")"
      ],
      "metadata": {
        "colab": {
          "base_uri": "https://localhost:8080/"
        },
        "id": "n_LnBXmWgLiu",
        "outputId": "d2f169d5-b095-45e1-812c-daed56a5560b"
      },
      "execution_count": null,
      "outputs": [
        {
          "output_type": "stream",
          "name": "stdout",
          "text": [
            "Enter the number:23\n",
            "23 is False\n"
          ]
        }
      ]
    },
    {
      "cell_type": "markdown",
      "source": [
        "Q15. Write a code that uses a lambda function to concatenate two strings"
      ],
      "metadata": {
        "id": "AfNurz-Mjk15"
      }
    },
    {
      "cell_type": "code",
      "source": [
        "con_str = lambda a, b: a + b\n",
        "a = input(\"Enter a:\")\n",
        "b = input(\"Enter b:\")\n",
        "print(f\"Concatenated string is {con_str(a, b)}\")"
      ],
      "metadata": {
        "colab": {
          "base_uri": "https://localhost:8080/"
        },
        "id": "x94_EXeWjsr9",
        "outputId": "f193b8c7-433d-4b3e-d745-4a2473f5862b"
      },
      "execution_count": null,
      "outputs": [
        {
          "output_type": "stream",
          "name": "stdout",
          "text": [
            "Enter a:hello\n",
            "Enter b:world\n",
            "Concatenated string is helloworld\n"
          ]
        }
      ]
    },
    {
      "cell_type": "markdown",
      "source": [
        "Q16. Write a code that uses a lambda function to find the maximum of three given numbers"
      ],
      "metadata": {
        "id": "19lNT99Lj_Rb"
      }
    },
    {
      "cell_type": "code",
      "source": [
        "maxi = lambda a, b, c: max(a, b, c)\n",
        "a = int(input(\"Enter a:\"))\n",
        "b = int(input(\"Enter b:\"))\n",
        "c = int(input(\"Enter c:\"))\n",
        "print(f\"Maximum number is {maxi(a, b, c)}\")"
      ],
      "metadata": {
        "colab": {
          "base_uri": "https://localhost:8080/"
        },
        "id": "j6iNfaWYkC61",
        "outputId": "ce5eb62a-836f-4411-882d-f86e9816195b"
      },
      "execution_count": null,
      "outputs": [
        {
          "output_type": "stream",
          "name": "stdout",
          "text": [
            "Enter a:23\n",
            "Enter b:34\n",
            "Enter c:21\n",
            "Maximum number is 34\n"
          ]
        }
      ]
    },
    {
      "cell_type": "markdown",
      "source": [
        "Q17. Write a code that generates the squares of even numbers from a given list"
      ],
      "metadata": {
        "id": "ktjX0-5BkSIk"
      }
    },
    {
      "cell_type": "code",
      "source": [
        "lst = list(range(1, 11))\n",
        "print(\"Squares of even numbers are...\")\n",
        "for i in lst:\n",
        "  if i % 2 == 0:\n",
        "    print(i**2, end = \" \")"
      ],
      "metadata": {
        "colab": {
          "base_uri": "https://localhost:8080/"
        },
        "id": "4r36RgGhkWTH",
        "outputId": "93001add-412b-45ad-b2d4-89d5f5ef7583"
      },
      "execution_count": null,
      "outputs": [
        {
          "output_type": "stream",
          "name": "stdout",
          "text": [
            "Squares of even numbers are...\n",
            "4 16 36 64 100 "
          ]
        }
      ]
    },
    {
      "cell_type": "markdown",
      "source": [
        "Q18. Write a code that calculates the product of positive numbers from a given list"
      ],
      "metadata": {
        "id": "nnIKboq9kyUV"
      }
    },
    {
      "cell_type": "code",
      "source": [
        "lst = [1, -1, 2, -2, 3, -3]\n",
        "prod = 1\n",
        "for i in lst:\n",
        "  if i >= 0:\n",
        "    prod *= i\n",
        "print(f\"Product of numbers is {prod}\")"
      ],
      "metadata": {
        "colab": {
          "base_uri": "https://localhost:8080/"
        },
        "id": "_f7dLZSEk2Kg",
        "outputId": "f05f552c-1bfd-4c6e-c4e4-d7c1f0a5bdf9"
      },
      "execution_count": null,
      "outputs": [
        {
          "output_type": "stream",
          "name": "stdout",
          "text": [
            "Product of numbers is 6\n"
          ]
        }
      ]
    },
    {
      "cell_type": "markdown",
      "source": [
        "Q19. Write a code that doubles the values of odd numbers from a given list"
      ],
      "metadata": {
        "id": "pGr-BgTLlHj0"
      }
    },
    {
      "cell_type": "code",
      "source": [
        "lst = list(range(1, 11))\n",
        "for i in range(len(lst)):\n",
        "  if lst[i] % 2 != 0:\n",
        "      lst[i] = lst[i] * 2\n",
        "print(f\"Updated list is {lst}\")"
      ],
      "metadata": {
        "colab": {
          "base_uri": "https://localhost:8080/"
        },
        "id": "8Ine_iSzlOd9",
        "outputId": "cab5e6e7-b28d-4534-9597-34c9b6456027"
      },
      "execution_count": null,
      "outputs": [
        {
          "output_type": "stream",
          "name": "stdout",
          "text": [
            "Updated list is [2, 2, 6, 4, 10, 6, 14, 8, 18, 10]\n"
          ]
        }
      ]
    },
    {
      "cell_type": "markdown",
      "source": [
        "Q20. Write a code that calculates the sum of cubes of numbers from a given list"
      ],
      "metadata": {
        "id": "vYHS1VzQmcxf"
      }
    },
    {
      "cell_type": "code",
      "source": [
        "lst = [1, 2, 3, 4, 5]\n",
        "sum = 0\n",
        "for i in lst:\n",
        "  sum += i**3\n",
        "\n",
        "print(f\"Sum of numbers is {sum}\")"
      ],
      "metadata": {
        "colab": {
          "base_uri": "https://localhost:8080/"
        },
        "id": "Sj9K2JiYmg_-",
        "outputId": "94e7539a-b6b0-4a42-8750-f6b82a51578a"
      },
      "execution_count": null,
      "outputs": [
        {
          "output_type": "stream",
          "name": "stdout",
          "text": [
            "Sum of numbers is 225\n"
          ]
        }
      ]
    },
    {
      "cell_type": "markdown",
      "source": [
        "Q21. Write a code that filters out prime numbers from a given list"
      ],
      "metadata": {
        "id": "tDTaUyOVm5Oq"
      }
    },
    {
      "cell_type": "code",
      "source": [
        "def check_prime(n):\n",
        "  if n <= 1:\n",
        "    return False\n",
        "  for i in range(2, n):\n",
        "    if n % i == 0:\n",
        "      return False\n",
        "  return True\n",
        "\n",
        "lst = list(range(1, 21))\n",
        "print(\"Prime numbers are...\")\n",
        "for i in lst:\n",
        "  if(check_prime(i)):\n",
        "    print(i, end = \" \")"
      ],
      "metadata": {
        "colab": {
          "base_uri": "https://localhost:8080/"
        },
        "id": "t9Z3RG7Lm9Et",
        "outputId": "57dc9985-1dbd-44b4-9caf-d77e60610af7"
      },
      "execution_count": null,
      "outputs": [
        {
          "output_type": "stream",
          "name": "stdout",
          "text": [
            "Prime numbers are...\n",
            "2 3 5 7 11 13 17 19 "
          ]
        }
      ]
    },
    {
      "cell_type": "markdown",
      "source": [
        "Q22. Write a code that uses a lambda function to calculate the sum of two numbers"
      ],
      "metadata": {
        "id": "BMTzgI91oZRK"
      }
    },
    {
      "cell_type": "code",
      "source": [
        "sum = lambda a, b: a + b\n",
        "a = int(input(\"Enter a:\"))\n",
        "b = int(input(\"Enter b:\"))\n",
        "print(f\"Sum is {sum(a, b)}\")"
      ],
      "metadata": {
        "colab": {
          "base_uri": "https://localhost:8080/"
        },
        "id": "9rl0WtKMofOX",
        "outputId": "a13e5764-ce1d-492b-886d-0d813e87281a"
      },
      "execution_count": null,
      "outputs": [
        {
          "output_type": "stream",
          "name": "stdout",
          "text": [
            "Enter a:22\n",
            "Enter b:22\n",
            "Sum is 44\n"
          ]
        }
      ]
    },
    {
      "cell_type": "markdown",
      "source": [
        "Q23. Write a code that uses a lambda function to calculate the square of a given number"
      ],
      "metadata": {
        "id": "Eov17ncOoqiF"
      }
    },
    {
      "cell_type": "code",
      "source": [
        "square = lambda x: x**2\n",
        "x = int(input(\"Enter x:\"))\n",
        "print(f\"Square of {x} is {square(x)}\")"
      ],
      "metadata": {
        "colab": {
          "base_uri": "https://localhost:8080/"
        },
        "id": "CSDfwK5HosvX",
        "outputId": "c46113bb-a6b7-4473-a590-095cc652bc42"
      },
      "execution_count": null,
      "outputs": [
        {
          "output_type": "stream",
          "name": "stdout",
          "text": [
            "Enter x:22\n",
            "Square of 22 is 484\n"
          ]
        }
      ]
    },
    {
      "cell_type": "markdown",
      "source": [
        "Q24. Write a code that uses a lambda function to check whether a given number is even or odd"
      ],
      "metadata": {
        "id": "3medRA4eo3fA"
      }
    },
    {
      "cell_type": "code",
      "source": [
        "check = lambda x: \"Even\" if x%2 == 0 else \"False\"\n",
        "n = int(input(\"Enter the number:\"))\n",
        "print(f\"{n} is {check(n)}\")"
      ],
      "metadata": {
        "colab": {
          "base_uri": "https://localhost:8080/"
        },
        "id": "N_I_Guwxo61M",
        "outputId": "42143538-d718-4ed5-d454-8b3b4f32b70e"
      },
      "execution_count": null,
      "outputs": [
        {
          "output_type": "stream",
          "name": "stdout",
          "text": [
            "Enter the number:1\n",
            "1 is False\n"
          ]
        }
      ]
    },
    {
      "cell_type": "markdown",
      "source": [
        "Q25. Write a code that uses a lambda function to concatenate two strings"
      ],
      "metadata": {
        "id": "69VWiyAhpFth"
      }
    },
    {
      "cell_type": "code",
      "source": [
        "con_str = lambda a, b: a + b\n",
        "a = input(\"Enter a:\")\n",
        "b = input(\"Enter b:\")\n",
        "print(f\"Concatenated string is {con_str(a, b)}\")"
      ],
      "metadata": {
        "colab": {
          "base_uri": "https://localhost:8080/"
        },
        "id": "9K1Enkf3pKbf",
        "outputId": "5acb4920-ca6f-4ad8-dcf7-c8ac7d4df985"
      },
      "execution_count": null,
      "outputs": [
        {
          "output_type": "stream",
          "name": "stdout",
          "text": [
            "Enter a:hello\n",
            "Enter b:world\n",
            "Concatenated string is helloworld\n"
          ]
        }
      ]
    },
    {
      "cell_type": "markdown",
      "source": [
        "Q26. Write a code that uses a lambda function to find the maximum of three given numbers"
      ],
      "metadata": {
        "id": "NP3puCCRpSjY"
      }
    },
    {
      "cell_type": "code",
      "source": [
        "maxi = lambda a, b, c: max(a, b, c)\n",
        "a = int(input(\"Enter a:\"))\n",
        "b = int(input(\"Enter b:\"))\n",
        "c = int(input(\"Enter c:\"))\n",
        "print(f\"Maximum number is {maxi(a, b, c)}\")"
      ],
      "metadata": {
        "colab": {
          "base_uri": "https://localhost:8080/"
        },
        "id": "qaN7G3n8pXSv",
        "outputId": "aadb9a0f-4adb-47b4-eaff-d54e6fc73f58"
      },
      "execution_count": null,
      "outputs": [
        {
          "output_type": "stream",
          "name": "stdout",
          "text": [
            "Enter a:12\n",
            "Enter b:23\n",
            "Enter c:34\n",
            "Maximum number is 34\n"
          ]
        }
      ]
    },
    {
      "cell_type": "markdown",
      "source": [
        "Q27. What is encapsulation in OOP?"
      ],
      "metadata": {
        "id": "KHxCgGnZpezz"
      }
    },
    {
      "cell_type": "markdown",
      "source": [
        "Encapsulation bundles data (variables) and methods (functions) that operate on that data into a single unit (class).\n",
        "\n",
        "It hides the internal state of an object and prevents direct access to it from outside the class.\n",
        "\n",
        "Ensures that internal data cannot be modified or accessed unintentionally, improving security.\n",
        "\n"
      ],
      "metadata": {
        "id": "oljfOnEupiw1"
      }
    },
    {
      "cell_type": "markdown",
      "source": [
        "Q28. Explain the use of access modifiers in Python classes"
      ],
      "metadata": {
        "id": "TaWR0HUHq8s5"
      }
    },
    {
      "cell_type": "markdown",
      "source": [
        "Public (no underscore):\n",
        "\n",
        "All class attributes and methods are public by default.\n",
        "They can be accessed from both inside and outside the class.\n",
        "\n",
        "Protected (single underscore _):\n",
        "\n",
        "Indicated by a single underscore (_), this signals that an attribute or method is intended for internal use. However, it can still be accessed from outside the class but should not be directly modified (it's a convention, not enforced by Python).\n",
        "\n",
        "Private (double underscore __):\n",
        "\n",
        "Private members are indicated by a double underscore (__). These cannot be directly accessed outside the class. Python performs name mangling, where it changes the name of the attribute internally to prevent accidental access.\n"
      ],
      "metadata": {
        "id": "shgXG-dScuFU"
      }
    },
    {
      "cell_type": "markdown",
      "source": [
        "Q29. What is inheritance in OOP?"
      ],
      "metadata": {
        "id": "9gcv5_todRq3"
      }
    },
    {
      "cell_type": "markdown",
      "source": [
        "Inheritance in Object-Oriented Programming (OOP) is a mechanism that allows a class (known as the child class or subclass) to inherit properties and behaviors (i.e., attributes and methods) from another class (known as the parent class or superclass). It promotes code reusability, making it easier to create and maintain applications by allowing existing code to be extended or customized without rewriting it."
      ],
      "metadata": {
        "id": "XqMMHjRBdWb8"
      }
    },
    {
      "cell_type": "markdown",
      "source": [
        "Q30. Define polymorphism in OOP"
      ],
      "metadata": {
        "id": "KgXUdeNHdeqS"
      }
    },
    {
      "cell_type": "markdown",
      "source": [
        "Polymorphism in Object-Oriented Programming (OOP) is the ability of different classes to be treated as instances of the same class through a common interface, typically by using methods that can perform different tasks based on the object that invokes them. It allows a single function, method, or operator to behave differently depending on the type of object or data it is working with, promoting flexibility and extensibility."
      ],
      "metadata": {
        "id": "uJt_SpMjdjz_"
      }
    },
    {
      "cell_type": "markdown",
      "source": [
        "Q31. Explain method overriding in Python"
      ],
      "metadata": {
        "id": "1sNel1f_dtuT"
      }
    },
    {
      "cell_type": "markdown",
      "source": [
        "Method overriding in Python is a feature of object-oriented programming where a subclass provides its own implementation of a method that is already defined in its parent (or superclass). The method in the subclass overrides the one in the parent class, allowing the subclass to tailor or extend the behavior of that method."
      ],
      "metadata": {
        "id": "G3-6PpRed116"
      }
    },
    {
      "cell_type": "markdown",
      "source": [
        "Q32. Define a parent class Animal with a method make_sound that prints \"Generic animal sound\". Create a child class Dog inheriting from Animal with a method make_sound that prints \"Woof!\""
      ],
      "metadata": {
        "id": "JlSdRLqGeEC_"
      }
    },
    {
      "cell_type": "code",
      "source": [
        "class Animal:\n",
        "  def make_sound(self):\n",
        "    print(\"Generic animal sound\")\n",
        "\n",
        "class Dog(Animal):\n",
        "  def make_sound(self):\n",
        "    print(\"Woof!\")\n",
        "\n",
        "a = Animal()\n",
        "a.make_sound()\n",
        "\n",
        "d = Dog()\n",
        "d.make_sound()"
      ],
      "metadata": {
        "colab": {
          "base_uri": "https://localhost:8080/"
        },
        "id": "icmQGZc6eHov",
        "outputId": "91c4d18f-9dce-483a-837a-64183a7ed029"
      },
      "execution_count": null,
      "outputs": [
        {
          "output_type": "stream",
          "name": "stdout",
          "text": [
            "Generic animal sound\n",
            "Woof!\n"
          ]
        }
      ]
    },
    {
      "cell_type": "markdown",
      "source": [
        "Q33. Define a method move in the Animal class that prints \"Animal moves\". Override the move method in the Dog class to print \"Dog runs.\""
      ],
      "metadata": {
        "id": "oaxC9wK2evYp"
      }
    },
    {
      "cell_type": "code",
      "source": [
        "class Animal:\n",
        "  def move(self):\n",
        "    print(\"Animal moves\")\n",
        "\n",
        "class Dog(Animal):\n",
        "  def move(self):\n",
        "    print(\"Dog runs\")\n",
        "\n",
        "a = Animal()\n",
        "a.move()\n",
        "\n",
        "d = Dog()\n",
        "d.move()"
      ],
      "metadata": {
        "colab": {
          "base_uri": "https://localhost:8080/"
        },
        "id": "aS3HZ55Yey5u",
        "outputId": "8b12b057-fcc1-4084-fe9d-c932069eb328"
      },
      "execution_count": null,
      "outputs": [
        {
          "output_type": "stream",
          "name": "stdout",
          "text": [
            "Animal moves\n",
            "Dog runs\n"
          ]
        }
      ]
    },
    {
      "cell_type": "markdown",
      "source": [
        "Q34. Create a class Mammal with a method reproduce that prints \"Giving birth to live young.\" Create a class DogMammal inheriting from both Dog and Mammal"
      ],
      "metadata": {
        "id": "pOiD2hFwfU4W"
      }
    },
    {
      "cell_type": "code",
      "source": [
        "class Mammal:\n",
        "  def reproduce(self):\n",
        "    print(\"Giving birth to live young.\")\n",
        "\n",
        "class Dog:\n",
        "  def make_sound(self):\n",
        "    print(\"Woof!\")\n",
        "\n",
        "class DogMammal(Dog, Mammal):\n",
        "  pass\n",
        "\n",
        "d = DogMammal()\n",
        "d.make_sound()\n",
        "d.reproduce()"
      ],
      "metadata": {
        "colab": {
          "base_uri": "https://localhost:8080/"
        },
        "id": "oqwTE_IhfWEC",
        "outputId": "26f19d62-ac71-4e2b-b4d4-af3128472ab9"
      },
      "execution_count": null,
      "outputs": [
        {
          "output_type": "stream",
          "name": "stdout",
          "text": [
            "Woof!\n",
            "Giving birth to live young.\n"
          ]
        }
      ]
    },
    {
      "cell_type": "markdown",
      "source": [
        "Q35. Create a class GermanShepherd inheriting from Dog and override the make_sound method to print \"Bark!"
      ],
      "metadata": {
        "id": "iZXC_VwUgZ6W"
      }
    },
    {
      "cell_type": "code",
      "source": [
        "class GermanShepherd(Dog):\n",
        "  def make_sound(self):\n",
        "    print(\"Bark!\")\n",
        "\n",
        "g = GermanShepherd()\n",
        "g.make_sound()"
      ],
      "metadata": {
        "colab": {
          "base_uri": "https://localhost:8080/"
        },
        "id": "BUwcnLs6ggqA",
        "outputId": "d3005aac-a7af-4e65-d02f-772d767cc393"
      },
      "execution_count": null,
      "outputs": [
        {
          "output_type": "stream",
          "name": "stdout",
          "text": [
            "Bark!\n"
          ]
        }
      ]
    },
    {
      "cell_type": "markdown",
      "source": [
        "Q36. Define constructors in both the Animal and Dog classes with different initialization parameters"
      ],
      "metadata": {
        "id": "fJh3_GFIg62H"
      }
    },
    {
      "cell_type": "code",
      "source": [
        "class Animal:\n",
        "  def __init__(self, name):\n",
        "    self.name = name\n",
        "\n",
        "class Dog(Animal):\n",
        "  def __init__(self, name, breed):\n",
        "    super().__init__(name)\n",
        "    self.breed = breed\n",
        "    print(f\"{self.name} is {self.breed}\")\n",
        "\n",
        "d = Dog(\"Tommy\", \"Golden Retriever\")"
      ],
      "metadata": {
        "colab": {
          "base_uri": "https://localhost:8080/"
        },
        "id": "lzEEB20EhBOX",
        "outputId": "604146ff-c470-43be-f797-bc7298a6782b"
      },
      "execution_count": null,
      "outputs": [
        {
          "output_type": "stream",
          "name": "stdout",
          "text": [
            "Tommy is Golden Retriever\n"
          ]
        }
      ]
    },
    {
      "cell_type": "markdown",
      "source": [
        "Q37. What is abstraction in Python? How is it implemented?"
      ],
      "metadata": {
        "id": "ydei1_VgiUio"
      }
    },
    {
      "cell_type": "markdown",
      "source": [
        "Abstraction in Python (and in object-oriented programming in general) is the concept of hiding the internal implementation details of a system and exposing only the necessary functionalities to the users. This allows the user to interact with objects through well-defined interfaces, without needing to understand the complex underlying logic.\n",
        "\n",
        "In Python, abstraction is primarily implemented through:\n",
        "\n",
        "Abstract Classes (using the abc module).\n",
        "Interfaces (in the form of abstract methods).\n",
        "\n",
        "Python uses abstract classes to define interfaces. An abstract class cannot be instantiated directly; it serves as a blueprint for other classes. It can have abstract methods (methods that must be implemented by subclasses) and concrete methods (methods with implementation)."
      ],
      "metadata": {
        "id": "R3PCmABiDqxr"
      }
    },
    {
      "cell_type": "markdown",
      "source": [
        "Q38. Explain the importance of abstraction in object-oriented programming."
      ],
      "metadata": {
        "id": "Fa9bGbwyEip-"
      }
    },
    {
      "cell_type": "markdown",
      "source": [
        "Simplifies complex systems by hiding unnecessary details and exposing only essential features.\n",
        "Encourages modularity by breaking down large systems into smaller, manageable components.\n",
        "Enhances flexibility by allowing changes in implementation without affecting external interfaces.\n",
        "Improves code reusability by providing common abstract interfaces for different concrete classes.\n",
        "Promotes maintainability by reducing dependencies on internal implementation, making code easier to update.\n",
        "\n"
      ],
      "metadata": {
        "id": "HVuXEMV7Enyl"
      }
    },
    {
      "cell_type": "markdown",
      "source": [
        "Q39. How are abstract methods different from regular methods in Python?\n",
        "\n",
        "Instantiation: Classes with abstract methods cannot be instantiated directly, while classes with regular methods can.\n",
        "\n",
        "Implementation: Abstract methods force subclasses to implement them, while regular methods may or may not be overridden.\n",
        "\n",
        "Use Case: Abstract methods are used to define an interface, while regular methods are used to implement specific functionality."
      ],
      "metadata": {
        "id": "xcMnO6RIE67z"
      }
    },
    {
      "cell_type": "markdown",
      "source": [
        "Q40. How can you achieve abstraction using interfaces in Python?\n",
        "\n",
        "Create an Abstract Base Class (ABC): Use the abc module and inherit from ABC to define an abstract base class. This class will contain abstract methods that must be implemented by any subclass.\n",
        "\n",
        "Define Abstract Methods: Use the @abstractmethod decorator to define abstract methods in the base class. These methods will not have an implementation in the base class, forcing the subclasses to provide their own implementation."
      ],
      "metadata": {
        "id": "8HVb13pf5m1N"
      }
    },
    {
      "cell_type": "markdown",
      "source": [
        "Q41. Can you provide an example of how abstraction can be utilized to create a common interface for a group of related classes in Python?\n",
        "\n"
      ],
      "metadata": {
        "id": "e7xAIJBi5_4_"
      }
    },
    {
      "cell_type": "code",
      "source": [
        "from abc import ABC, abstractmethod\n",
        "\n",
        "class Payment(ABC):\n",
        "  @abstractmethod\n",
        "  def process_payment(self, amount):\n",
        "    pass\n",
        "\n",
        "  @abstractmethod\n",
        "  def get_status(self):\n",
        "    pass\n",
        "\n",
        "class Credit_Card(Payment):\n",
        "  def process_payment(self, amount):\n",
        "    print(f\"Processing credit card payment of {amount}\")\n",
        "\n",
        "  def get_status(self):\n",
        "    print(\"Credit card payment successful\")\n",
        "\n",
        "class UPI(Payment):\n",
        "  def process_payment(self, amount):\n",
        "    print(f\"Processing UPI payment of {amount}\")\n",
        "\n",
        "  def get_status(self):\n",
        "    print(\"UPI payment successful\")\n",
        "\n",
        "def make_payment(payment_method: Payment, amount: float):\n",
        "  payment_method.process_payment(amount)\n",
        "  payment_method.get_status()\n",
        "\n",
        "credit_card = Credit_Card()\n",
        "upi = UPI()\n",
        "\n",
        "make_payment(credit_card, 100)\n",
        "make_payment(upi, 200)"
      ],
      "metadata": {
        "colab": {
          "base_uri": "https://localhost:8080/"
        },
        "id": "EBEC8n2_9gL4",
        "outputId": "e2a37fab-cd35-4877-92f1-3ca9b503d412"
      },
      "execution_count": null,
      "outputs": [
        {
          "output_type": "stream",
          "name": "stdout",
          "text": [
            "Processing credit card payment of 100\n",
            "Credit card payment successful\n",
            "Processing UPI payment of 200\n",
            "UPI payment successful\n"
          ]
        }
      ]
    },
    {
      "cell_type": "markdown",
      "source": [
        "Q42. How does Python achieve polymorphism through method overriding?\n",
        "\n",
        "Python achieves polymorphism through method overriding by allowing a subclass to provide a specific implementation of a method that is already defined in its superclass. This enables objects of different classes to be treated uniformly while invoking different behaviors based on the object type. The method overriding concept allows Python to support runtime polymorphism, where the method to be executed is determined at runtime based on the object calling the method."
      ],
      "metadata": {
        "id": "ULncqJKjBVVS"
      }
    },
    {
      "cell_type": "markdown",
      "source": [
        "Q43. Define a base class with a method and a subclass that overrides the method"
      ],
      "metadata": {
        "id": "5bsGaUuhEw9G"
      }
    },
    {
      "cell_type": "code",
      "source": [
        "class Animal:\n",
        "  def make_sound(self):\n",
        "    print(\"Generic animal sound\")\n",
        "\n",
        "class Dog(Animal):\n",
        "  def make_sound(self):\n",
        "    print(\"Woof!\")\n",
        "\n",
        "a = Animal()\n",
        "a.make_sound()\n",
        "\n",
        "d = Dog()\n",
        "d.make_sound()"
      ],
      "metadata": {
        "colab": {
          "base_uri": "https://localhost:8080/"
        },
        "id": "TwFthWGyE4WV",
        "outputId": "61085ce1-5986-4176-e7a0-cb9142c8fd95"
      },
      "execution_count": null,
      "outputs": [
        {
          "output_type": "stream",
          "name": "stdout",
          "text": [
            "Generic animal sound\n",
            "Woof!\n"
          ]
        }
      ]
    },
    {
      "cell_type": "markdown",
      "source": [
        "Q44. Define a base class and multiple subclasses with overridden methods."
      ],
      "metadata": {
        "id": "cVJImdq1FwaY"
      }
    },
    {
      "cell_type": "code",
      "source": [
        "class Animal:\n",
        "  def sound(self):\n",
        "    print(\"Animal makes sound\")\n",
        "\n",
        "class Dog(Animal):\n",
        "  def sound(self):\n",
        "    print(\"Dog barks\")\n",
        "\n",
        "class Cat(Animal):\n",
        "  def sound(self):\n",
        "    print(\"Cat meows\")\n",
        "\n",
        "a = Animal()\n",
        "a.sound()\n",
        "\n",
        "d = Dog()\n",
        "d.sound()\n",
        "\n",
        "c = Cat()\n",
        "c.sound()"
      ],
      "metadata": {
        "colab": {
          "base_uri": "https://localhost:8080/"
        },
        "id": "JwBTCLtEF3DO",
        "outputId": "1441c467-0ec2-4bfe-c28d-84d7d2c91b53"
      },
      "execution_count": null,
      "outputs": [
        {
          "output_type": "stream",
          "name": "stdout",
          "text": [
            "Animal makes sound\n",
            "Dog barks\n",
            "Cat meows\n"
          ]
        }
      ]
    },
    {
      "cell_type": "markdown",
      "source": [
        "Q45. How does polymorphism improve code readability and reusability?\n",
        "\n",
        "Polymorphism is a key concept in object-oriented programming that allows objects of different classes to be treated as objects of a common superclass. It improves code readability and reusability by enabling the same method or operation to behave differently depending on the object that invokes it. Here’s how it benefits both readability and reusability:\n",
        "\n",
        "**Improving Code Readability**\n",
        "\n",
        "Unified Interface: Polymorphism allows you to use a common interface for different types of objects. This makes the code more understandable because the same method name can be applied across different objects, making it easier to follow.\n",
        "\n",
        "**Reduced Conditional Logic:** Without polymorphism, you would need multiple conditional statements (e.g., if-else or switch-case) to handle different types of objects separately. Polymorphism eliminates the need for such conditions, making the code cleaner and easier to read."
      ],
      "metadata": {
        "id": "q6hVBoJ8-kVt"
      }
    },
    {
      "cell_type": "markdown",
      "source": [
        "Q46. Describe how Python supports polymorphism with duck typing.\n",
        "\n",
        "Python supports polymorphism through a concept called duck typing, which is based on the principle \"If it looks like a duck and quacks like a duck, it's a duck.\" In Python, the focus is not on the type of an object but on the methods or properties it supports. As long as an object implements the required behavior (e.g., has a specific method or attribute), it can be used in place of any other object, regardless of its actual class or type.\n",
        "\n",
        "\n"
      ],
      "metadata": {
        "id": "ZqT_fOSOd9iT"
      }
    },
    {
      "cell_type": "markdown",
      "source": [
        "Q47. How do you achieve encapsulation in Python?\n",
        "\n",
        "In Python, encapsulation is achieved by restricting access to certain attributes or methods of a class to protect the internal state of an object. This is typically done by controlling access using private and protected members.\n",
        "\n",
        "Private Members: By prefixing an attribute or method name with double underscores (__), you make it private. This hides it from being accessed directly outside the class.\n",
        "\n",
        "Protected Members: By prefixing an attribute or method name with a single underscore (_), you make it protected. This suggests it should not be accessed directly outside the class (though it can still be accessed if needed), promoting usage within subclasses or the class itself."
      ],
      "metadata": {
        "id": "aO7qzEIMrRFp"
      }
    },
    {
      "cell_type": "markdown",
      "source": [
        "Q48. Can encapsulation be bypassed in Python? If so, how?\n",
        "\n",
        "Yes, encapsulation in Python can be bypassed, although it's generally discouraged. Due to Python's flexible nature, even private members (attributes or methods) can be accessed or modified if you know how. This is possible because the \"private\" nature of attributes in Python is implemented through name mangling, not true enforcement.\n",
        "\n",
        "Accessing Private Attributes via Name Mangling: Python \"mangles\" private attribute names by prefixing the class name to the attribute. This makes it harder to access directly but not impossible. You can still access private attributes by using their mangled names.\n",
        "\n",
        "Modifying Private Attributes: Similar to accessing private attributes, they can also be modified through name mangling. This allows external code to change what is supposed to be encapsulated."
      ],
      "metadata": {
        "id": "Y8c5lJQtrmoF"
      }
    },
    {
      "cell_type": "markdown",
      "source": [
        "Q49. Implement a class BankAccount with a private balance attribute. Include methods to deposit, withdraw, and check the balance"
      ],
      "metadata": {
        "id": "SmZ4nNMnr6xl"
      }
    },
    {
      "cell_type": "code",
      "source": [
        "class BankAccount:\n",
        "    def __init__(self, initial_balance=0):\n",
        "        self.__balance = initial_balance\n",
        "\n",
        "    def deposit(self, amount):\n",
        "        if amount > 0:\n",
        "            self.__balance += amount\n",
        "            print(f\"Deposited: {amount}\")\n",
        "        else:\n",
        "            print(\"Deposit amount must be positive.\")\n",
        "\n",
        "    def withdraw(self, amount):\n",
        "        if amount > self.__balance:\n",
        "            print(\"Insufficient funds.\")\n",
        "        elif amount <= 0:\n",
        "            print(\"Withdraw amount must be positive.\")\n",
        "        else:\n",
        "            self.__balance -= amount\n",
        "            print(f\"Withdrew: {amount}\")\n",
        "\n",
        "    def check_balance(self):\n",
        "        return self.__balance\n",
        "\n",
        "account = BankAccount(100)\n",
        "account.deposit(50)\n",
        "print(account.check_balance())\n",
        "account.withdraw(30)\n",
        "print(account.check_balance())\n",
        "account.withdraw(200)"
      ],
      "metadata": {
        "colab": {
          "base_uri": "https://localhost:8080/"
        },
        "id": "Cn8WQWFEsEhz",
        "outputId": "0116f1ec-c5ee-4a77-8fc6-96bd883c114e"
      },
      "execution_count": 1,
      "outputs": [
        {
          "output_type": "stream",
          "name": "stdout",
          "text": [
            "Deposited: 50\n",
            "150\n",
            "Withdrew: 30\n",
            "120\n",
            "Insufficient funds.\n"
          ]
        }
      ]
    },
    {
      "cell_type": "markdown",
      "source": [
        "Q50. Develop a Person class with private attributes name and email, and methods to set and get the email"
      ],
      "metadata": {
        "id": "UkcLYz2_sc_n"
      }
    },
    {
      "cell_type": "code",
      "source": [
        "class Person:\n",
        "    def __init__(self, name, email):\n",
        "        self.__name = name\n",
        "        self.__email = email\n",
        "    def set_email(self, email):\n",
        "        if isinstance(email, str) and '@' in email:\n",
        "            self.__email = email\n",
        "            print(f\"Email updated to: {self.__email}\")\n",
        "        else:\n",
        "            print(\"Invalid email address.\")\n",
        "    def get_email(self):\n",
        "        return self.__email\n",
        "    def get_name(self):\n",
        "        return self.__name\n",
        "\n",
        "person = Person(\"Alice\", \"alice@example.com\")\n",
        "print(person.get_email())\n",
        "person.set_email(\"alice.new@example.com\")\n",
        "print(person.get_email())\n",
        "person.set_email(\"invalid-email\")"
      ],
      "metadata": {
        "colab": {
          "base_uri": "https://localhost:8080/"
        },
        "id": "ad9bv_ksskpz",
        "outputId": "56e0203e-7e09-493a-cbb6-f1be76370bc6"
      },
      "execution_count": 2,
      "outputs": [
        {
          "output_type": "stream",
          "name": "stdout",
          "text": [
            "alice@example.com\n",
            "Email updated to: alice.new@example.com\n",
            "alice.new@example.com\n",
            "Invalid email address.\n"
          ]
        }
      ]
    },
    {
      "cell_type": "markdown",
      "source": [
        "Q51. Why is encapsulation considered a pillar of object-oriented programming (OOP)?\n",
        "\n",
        "1. Data Hiding:\n",
        "Encapsulation allows the internal state of an object to be hidden from the outside world. This means that the object's data cannot be accessed directly, reducing the risk of unintended interference or misuse. By exposing only necessary interfaces (methods), encapsulation protects the integrity of the data.\n",
        "2. Controlled Access:\n",
        "With encapsulation, access to an object's attributes and methods can be controlled through public methods (getters and setters). This control allows for validation and additional logic to be applied whenever data is accessed or modified, ensuring that the object remains in a valid state.\n",
        "3. Modularity:\n",
        "Encapsulation promotes modular design, making it easier to manage and maintain code. Each class can be developed independently, with its own data and behavior. Changes to one class do not affect others as long as the interface remains consistent.\n",
        "4. Increased Flexibility:\n",
        "Since encapsulated objects can hide their internal implementation details, they can be modified without affecting other parts of the program. This flexibility makes it easier to update or replace components without disrupting the overall system.\n",
        "5. Improved Code Maintainability:\n",
        "Encapsulation leads to cleaner and more organized code. By bundling data and methods that operate on that data within the same class, developers can create self-contained units of functionality, making the code easier to read and maintain."
      ],
      "metadata": {
        "id": "94gWIGTos0j5"
      }
    },
    {
      "cell_type": "markdown",
      "source": [
        "Q52. Create a decorator in Python that adds functionality to a simple function by printing a message before and after the function execution"
      ],
      "metadata": {
        "id": "HRdIibg7tCI7"
      }
    },
    {
      "cell_type": "code",
      "source": [
        "def my_decorator(func):\n",
        "    def wrapper(*args, **kwargs):\n",
        "        print(\"Before executing the function.\")\n",
        "        result = func(*args, **kwargs)\n",
        "        print(\"After executing the function.\")\n",
        "        return result\n",
        "    return wrapper\n",
        "\n",
        "@my_decorator\n",
        "def say_hello(name):\n",
        "    print(f\"Hello, {name}!\")\n",
        "\n",
        "say_hello(\"Alice\")"
      ],
      "metadata": {
        "colab": {
          "base_uri": "https://localhost:8080/"
        },
        "id": "wUV_hFf_tLdR",
        "outputId": "a5686d8a-16a0-4a82-be01-052f4faab8df"
      },
      "execution_count": 3,
      "outputs": [
        {
          "output_type": "stream",
          "name": "stdout",
          "text": [
            "Before executing the function.\n",
            "Hello, Alice!\n",
            "After executing the function.\n"
          ]
        }
      ]
    },
    {
      "cell_type": "markdown",
      "source": [
        "Q53. Modify the decorator to accept arguments and print the function name along with the message."
      ],
      "metadata": {
        "id": "5rumEx4_tQFX"
      }
    },
    {
      "cell_type": "code",
      "source": [
        "def my_decorator(message):\n",
        "    def decorator(func):\n",
        "        def wrapper(*args, **kwargs):\n",
        "            print(f\"{message} - Before executing the function: {func.__name__}\")\n",
        "            result = func(*args, **kwargs)\n",
        "            print(f\"{message} - After executing the function: {func.__name__}\")\n",
        "            return result\n",
        "        return wrapper\n",
        "    return decorator\n",
        "\n",
        "@my_decorator(\"Notice\")\n",
        "def say_hello(name):\n",
        "    print(f\"Hello, {name}!\")\n",
        "\n",
        "say_hello(\"Alice\")"
      ],
      "metadata": {
        "colab": {
          "base_uri": "https://localhost:8080/"
        },
        "id": "p73yC-UhtXj3",
        "outputId": "c1f3a334-ea8c-49e4-f439-b0ccb6f5e9c6"
      },
      "execution_count": 4,
      "outputs": [
        {
          "output_type": "stream",
          "name": "stdout",
          "text": [
            "Notice - Before executing the function: say_hello\n",
            "Hello, Alice!\n",
            "Notice - After executing the function: say_hello\n"
          ]
        }
      ]
    },
    {
      "cell_type": "markdown",
      "source": [
        "Q54. Create two decorators, and apply them to a single function. Ensure that they execute in the order they are applied"
      ],
      "metadata": {
        "id": "KYrMjAHPtb97"
      }
    },
    {
      "cell_type": "code",
      "source": [
        "def decorator_one(func):\n",
        "    def wrapper(*args, **kwargs):\n",
        "        print(\"Decorator One: Before calling the function.\")\n",
        "        result = func(*args, **kwargs)\n",
        "        print(\"Decorator One: After calling the function.\")\n",
        "        return result\n",
        "    return wrapper\n",
        "\n",
        "def decorator_two(func):\n",
        "    def wrapper(*args, **kwargs):\n",
        "        print(\"Decorator Two: Before calling the function.\")\n",
        "        result = func(*args, **kwargs)\n",
        "        print(\"Decorator Two: After calling the function.\")\n",
        "        return result\n",
        "    return wrapper\n",
        "\n",
        "@decorator_one\n",
        "@decorator_two\n",
        "def say_hello(name):\n",
        "    print(f\"Hello, {name}!\")\n",
        "\n",
        "say_hello(\"Alice\")"
      ],
      "metadata": {
        "colab": {
          "base_uri": "https://localhost:8080/"
        },
        "id": "SmL2-AcZth-N",
        "outputId": "46eefc71-6b7b-4d62-dabb-b3d8cc81cd1f"
      },
      "execution_count": 5,
      "outputs": [
        {
          "output_type": "stream",
          "name": "stdout",
          "text": [
            "Decorator One: Before calling the function.\n",
            "Decorator Two: Before calling the function.\n",
            "Hello, Alice!\n",
            "Decorator Two: After calling the function.\n",
            "Decorator One: After calling the function.\n"
          ]
        }
      ]
    },
    {
      "cell_type": "markdown",
      "source": [
        "Q55. Modify the decorator to accept and pass function arguments to the wrapped function"
      ],
      "metadata": {
        "id": "KImewu-btnFx"
      }
    },
    {
      "cell_type": "code",
      "source": [
        "def decorator_one(func):\n",
        "    def wrapper(*args, **kwargs):\n",
        "        print(\"Decorator One: Before calling the function.\")\n",
        "        result = func(*args, **kwargs)\n",
        "        print(\"Decorator One: After calling the function.\")\n",
        "        return result\n",
        "    return wrapper\n",
        "\n",
        "def decorator_two(func):\n",
        "    def wrapper(*args, **kwargs):\n",
        "        print(\"Decorator Two: Before calling the function.\")\n",
        "        result = func(*args, **kwargs)\n",
        "        print(\"Decorator Two: After calling the function.\")\n",
        "        return result\n",
        "    return wrapper\n",
        "\n",
        "@decorator_one\n",
        "@decorator_two\n",
        "def say_hello(name, greeting=\"Hello\"):\n",
        "    print(f\"{greeting}, {name}!\")\n",
        "\n",
        "say_hello(\"Alice\")\n",
        "say_hello(\"Bob\", greeting=\"Hi\")"
      ],
      "metadata": {
        "colab": {
          "base_uri": "https://localhost:8080/"
        },
        "id": "3H5ZCk6FtuAX",
        "outputId": "dacae875-41ba-46bb-daa8-d30d163bb1ce"
      },
      "execution_count": 6,
      "outputs": [
        {
          "output_type": "stream",
          "name": "stdout",
          "text": [
            "Decorator One: Before calling the function.\n",
            "Decorator Two: Before calling the function.\n",
            "Hello, Alice!\n",
            "Decorator Two: After calling the function.\n",
            "Decorator One: After calling the function.\n",
            "Decorator One: Before calling the function.\n",
            "Decorator Two: Before calling the function.\n",
            "Hi, Bob!\n",
            "Decorator Two: After calling the function.\n",
            "Decorator One: After calling the function.\n"
          ]
        }
      ]
    },
    {
      "cell_type": "markdown",
      "source": [
        "Q56. Create a decorator that preserves the metadata of the original function"
      ],
      "metadata": {
        "id": "yQxaLN7jt1ZH"
      }
    },
    {
      "cell_type": "code",
      "source": [
        "import functools\n",
        "\n",
        "def preserve_metadata(func):\n",
        "    @functools.wraps(func)\n",
        "    def wrapper(*args, **kwargs):\n",
        "        print(\"Before calling the function.\")\n",
        "        result = func(*args, **kwargs)\n",
        "        print(\"After calling the function.\")\n",
        "        return result\n",
        "    return wrapper\n",
        "\n",
        "@preserve_metadata\n",
        "def say_hello(name):\n",
        "    \"\"\"Greet a person with their name.\"\"\"\n",
        "    print(f\"Hello, {name}!\")\n",
        "\n",
        "say_hello(\"Alice\")\n",
        "\n",
        "print(f\"Function name: {say_hello.__name__}\")\n",
        "print(f\"Function docstring: {say_hello.__doc__}\")"
      ],
      "metadata": {
        "colab": {
          "base_uri": "https://localhost:8080/"
        },
        "id": "7bMj9pQYt8LH",
        "outputId": "b16b8f61-c464-462d-9d23-4299c7dc02dd"
      },
      "execution_count": 7,
      "outputs": [
        {
          "output_type": "stream",
          "name": "stdout",
          "text": [
            "Before calling the function.\n",
            "Hello, Alice!\n",
            "After calling the function.\n",
            "Function name: say_hello\n",
            "Function docstring: Greet a person with their name.\n"
          ]
        }
      ]
    },
    {
      "cell_type": "markdown",
      "source": [
        "Q57. Create a Python class `Calculator` with a static method `add` that takes in two numbers and returns their sum"
      ],
      "metadata": {
        "id": "OVP1j8cKuBoT"
      }
    },
    {
      "cell_type": "code",
      "source": [
        "class Calculator:\n",
        "    @staticmethod\n",
        "    def add(num1, num2):\n",
        "        \"\"\"Return the sum of two numbers.\"\"\"\n",
        "        return num1 + num2\n",
        "\n",
        "result = Calculator.add(5, 3)\n",
        "print(f\"The sum is: {result}\")"
      ],
      "metadata": {
        "colab": {
          "base_uri": "https://localhost:8080/"
        },
        "id": "1kTYPXVFuHb2",
        "outputId": "e1919788-23d2-45c8-bef7-a9f4349bb3f6"
      },
      "execution_count": 8,
      "outputs": [
        {
          "output_type": "stream",
          "name": "stdout",
          "text": [
            "The sum is: 8\n"
          ]
        }
      ]
    },
    {
      "cell_type": "markdown",
      "source": [
        "Q58. Create a Python class `Employee` with a class `method get_employee_count` that returns the total number of employees created"
      ],
      "metadata": {
        "id": "Fbn5jbQOuLV3"
      }
    },
    {
      "cell_type": "code",
      "source": [
        "class Employee:\n",
        "    employee_count = 0\n",
        "    def __init__(self, name):\n",
        "        self.name = name\n",
        "        Employee.employee_count += 1\n",
        "    @classmethod\n",
        "    def get_employee_count(cls):\n",
        "        \"\"\"Return the total number of employees created.\"\"\"\n",
        "        return cls.employee_count\n",
        "\n",
        "employee1 = Employee(\"Alice\")\n",
        "employee2 = Employee(\"Bob\")\n",
        "employee3 = Employee(\"Charlie\")\n",
        "total_employees = Employee.get_employee_count()\n",
        "print(f\"Total number of employees: {total_employees}\")"
      ],
      "metadata": {
        "colab": {
          "base_uri": "https://localhost:8080/"
        },
        "id": "n4Z8C_mZuTrP",
        "outputId": "8d97c1e1-83c5-4a5c-abcf-7a0cdb1e2793"
      },
      "execution_count": 9,
      "outputs": [
        {
          "output_type": "stream",
          "name": "stdout",
          "text": [
            "Total number of employees: 3\n"
          ]
        }
      ]
    },
    {
      "cell_type": "markdown",
      "source": [
        "Q59. Create a Python class `StringFormatter` with a static method `reverse_string` that takes a string as input and returns its reverse"
      ],
      "metadata": {
        "id": "UkVxL25puasV"
      }
    },
    {
      "cell_type": "code",
      "source": [
        "class StringFormatter:\n",
        "    @staticmethod\n",
        "    def reverse_string(input_string):\n",
        "        \"\"\"Return the reverse of the input string.\"\"\"\n",
        "        return input_string[::-1]\n",
        "\n",
        "result = StringFormatter.reverse_string(\"Hello, World!\")\n",
        "print(f\"Reversed string: {result}\")"
      ],
      "metadata": {
        "colab": {
          "base_uri": "https://localhost:8080/"
        },
        "id": "RV2bMd3Duiek",
        "outputId": "4290fb7a-c95e-47c3-de5c-00fb9344bce1"
      },
      "execution_count": 10,
      "outputs": [
        {
          "output_type": "stream",
          "name": "stdout",
          "text": [
            "Reversed string: !dlroW ,olleH\n"
          ]
        }
      ]
    },
    {
      "cell_type": "markdown",
      "source": [
        "Q60. Create a Python class `Circle` with a class method `calculate_area` that calculates the area of a circle given its radius"
      ],
      "metadata": {
        "id": "hgQHA5yxulQD"
      }
    },
    {
      "cell_type": "code",
      "source": [
        "import math\n",
        "class Circle:\n",
        "    @classmethod\n",
        "    def calculate_area(cls, radius):\n",
        "        \"\"\"Calculate and return the area of a circle given its radius.\"\"\"\n",
        "        if radius < 0:\n",
        "            raise ValueError(\"Radius cannot be negative.\")\n",
        "        area = math.pi * (radius ** 2)\n",
        "        return area\n",
        "\n",
        "radius = 5\n",
        "area = Circle.calculate_area(radius)\n",
        "print(f\"The area of a circle with radius {radius} is: {area:.2f}\")"
      ],
      "metadata": {
        "colab": {
          "base_uri": "https://localhost:8080/"
        },
        "id": "gkBQ1AMsurTe",
        "outputId": "67581edf-47c6-4fef-8b65-c95c42380472"
      },
      "execution_count": 12,
      "outputs": [
        {
          "output_type": "stream",
          "name": "stdout",
          "text": [
            "The area of a circle with radius 5 is: 78.54\n"
          ]
        }
      ]
    },
    {
      "cell_type": "markdown",
      "source": [
        "Q61. Create a Python class `TemperatureConverter` with a static method `celsius_to_fahrenheit` that converts Celsius to Fahrenheit"
      ],
      "metadata": {
        "id": "IT3He3nxuwgP"
      }
    },
    {
      "cell_type": "code",
      "source": [
        "class TemperatureConverter:\n",
        "    @staticmethod\n",
        "    def celsius_to_fahrenheit(celsius):\n",
        "        \"\"\"Convert Celsius to Fahrenheit.\"\"\"\n",
        "        fahrenheit = (celsius * 9/5) + 32\n",
        "        return fahrenheit\n",
        "\n",
        "celsius_temp = 25\n",
        "fahrenheit_temp = TemperatureConverter.celsius_to_fahrenheit(celsius_temp)\n",
        "print(f\"{celsius_temp}°C is equal to {fahrenheit_temp}°F\")"
      ],
      "metadata": {
        "colab": {
          "base_uri": "https://localhost:8080/"
        },
        "id": "rKBde1uHu0uV",
        "outputId": "fa9d933e-d85a-4858-a2e5-b05aac7b4ab8"
      },
      "execution_count": 13,
      "outputs": [
        {
          "output_type": "stream",
          "name": "stdout",
          "text": [
            "25°C is equal to 77.0°F\n"
          ]
        }
      ]
    },
    {
      "cell_type": "markdown",
      "source": [
        "Q62. What is the purpose of the __str__() method in Python classes? Provide an example.\n",
        "\n",
        "The __str__() method in Python classes is used to define a human-readable string representation of an object. When you call print() on an instance of a class or use str() on that instance, Python internally calls the __str__() method to obtain the string that should be displayed."
      ],
      "metadata": {
        "id": "zHOrrZUbu8bY"
      }
    },
    {
      "cell_type": "code",
      "source": [
        "class Person:\n",
        "    def __init__(self, name, age):\n",
        "        self.name = name\n",
        "        self.age = age\n",
        "    def __str__(self):\n",
        "        return f\"Person(Name: {self.name}, Age: {self.age})\"\n",
        "\n",
        "person1 = Person(\"Alice\", 30)\n",
        "print(person1)"
      ],
      "metadata": {
        "colab": {
          "base_uri": "https://localhost:8080/"
        },
        "id": "R0nXSwqcvFPu",
        "outputId": "8439e6f7-2cb0-4a1d-bff3-bb57bb4b7865"
      },
      "execution_count": 14,
      "outputs": [
        {
          "output_type": "stream",
          "name": "stdout",
          "text": [
            "Person(Name: Alice, Age: 30)\n"
          ]
        }
      ]
    },
    {
      "cell_type": "markdown",
      "source": [
        "Q63. How does the __len__() method work in Python? Provide an example.\n",
        "\n",
        "The __len__() method in Python is a special method that allows you to define the behavior of the built-in len() function for instances of your custom classes. When you call len() on an object, Python internally calls that object's __len__() method to determine its length."
      ],
      "metadata": {
        "id": "ZxA1yBYrvNOh"
      }
    },
    {
      "cell_type": "code",
      "source": [
        "class ShoppingCart:\n",
        "    def __init__(self):\n",
        "        self.items = []\n",
        "    def add_item(self, item):\n",
        "        self.items.append(item)\n",
        "    def __len__(self):\n",
        "        return len(self.items)\n",
        "\n",
        "cart = ShoppingCart()\n",
        "cart.add_item(\"Apple\")\n",
        "cart.add_item(\"Banana\")\n",
        "cart.add_item(\"Orange\")\n",
        "print(f\"Number of items in the cart: {len(cart)}\")"
      ],
      "metadata": {
        "colab": {
          "base_uri": "https://localhost:8080/"
        },
        "id": "nnUnjQTbvWnB",
        "outputId": "e68722ad-ea23-4696-bf72-4b8026fbcbf8"
      },
      "execution_count": 15,
      "outputs": [
        {
          "output_type": "stream",
          "name": "stdout",
          "text": [
            "Number of items in the cart: 3\n"
          ]
        }
      ]
    },
    {
      "cell_type": "markdown",
      "source": [
        "Q64. Explain the usage of the __add__() method in Python classes. Provide an example.\n",
        "\n",
        "The __add__() method in Python is a special method that allows you to define the behavior of the addition operator + for instances of your custom classes. By implementing the __add__() method, you can control how objects of your class are added together, enabling operator overloading."
      ],
      "metadata": {
        "id": "ptsGmGSXvfbn"
      }
    },
    {
      "cell_type": "code",
      "source": [
        "class Vector:\n",
        "    def __init__(self, x, y):\n",
        "        self.x = x\n",
        "        self.y = y\n",
        "\n",
        "    def __add__(self, other):\n",
        "        \"\"\"Define the addition behavior for Vector objects.\"\"\"\n",
        "        if isinstance(other, Vector):\n",
        "            return Vector(self.x + other.x, self.y + other.y)\n",
        "        return NotImplemented\n",
        "    def __repr__(self):\n",
        "        \"\"\"Return a string representation of the Vector.\"\"\"\n",
        "        return f\"Vector({self.x}, {self.y})\"\n",
        "\n",
        "vector1 = Vector(2, 3)\n",
        "vector2 = Vector(4, 5)\n",
        "result_vector = vector1 + vector2\n",
        "print(f\"Result of addition: {result_vector}\")"
      ],
      "metadata": {
        "colab": {
          "base_uri": "https://localhost:8080/"
        },
        "id": "8p34OR5SvxZX",
        "outputId": "dc6d2143-1077-4fcd-af72-0923b479feab"
      },
      "execution_count": 16,
      "outputs": [
        {
          "output_type": "stream",
          "name": "stdout",
          "text": [
            "Result of addition: Vector(6, 8)\n"
          ]
        }
      ]
    },
    {
      "cell_type": "markdown",
      "source": [
        "Q65. What is the purpose of the __getitem__() method in Python? Provide an example.\n",
        "\n",
        "The __getitem__() method in Python is a special method used to define how an object should respond when indexing or slicing. It allows you to customize the behavior of the indexing operation (using square brackets) for instances of your custom classes."
      ],
      "metadata": {
        "id": "nxniR6h2v6cJ"
      }
    },
    {
      "cell_type": "code",
      "source": [
        "class CustomList:\n",
        "    def __init__(self, elements):\n",
        "        self.elements = elements\n",
        "    def __getitem__(self, index):\n",
        "        \"\"\"Return the element at the specified index.\"\"\"\n",
        "        return self.elements[index]\n",
        "\n",
        "my_list = CustomList([10, 20, 30, 40, 50])\n",
        "print(my_list[0])\n",
        "print(my_list[2])\n",
        "print(my_list[1:4])"
      ],
      "metadata": {
        "colab": {
          "base_uri": "https://localhost:8080/"
        },
        "id": "Jb5nR_KMwBo_",
        "outputId": "9401f26a-c8dd-4f30-d2d8-acc2fbccc310"
      },
      "execution_count": 17,
      "outputs": [
        {
          "output_type": "stream",
          "name": "stdout",
          "text": [
            "10\n",
            "30\n",
            "[20, 30, 40]\n"
          ]
        }
      ]
    },
    {
      "cell_type": "markdown",
      "source": [
        "Q66. Explain the usage of the __iter__() and __next__() methods in Python. Provide an example using iterators.\n",
        "\n",
        "The __iter__() and __next__() methods in Python are used to create iterators, which allow you to traverse through a collection of items (like lists, tuples, or custom collections) one at a time. An iterator is an object that implements the iterator protocol, which consists of these two methods."
      ],
      "metadata": {
        "id": "BgKjKrOzwPw_"
      }
    },
    {
      "cell_type": "code",
      "source": [
        "class CountDown:\n",
        "    def __init__(self, start):\n",
        "        self.start = start\n",
        "        self.current = start\n",
        "    def __iter__(self):\n",
        "        \"\"\"Return the iterator object itself.\"\"\"\n",
        "        return self\n",
        "    def __next__(self):\n",
        "        \"\"\"Return the next number in the countdown.\"\"\"\n",
        "        if self.current < 0:\n",
        "            raise StopIteration\n",
        "        next_value = self.current\n",
        "        self.current -= 1\n",
        "        return next_value\n",
        "\n",
        "countdown = CountDown(5)\n",
        "for number in countdown:\n",
        "    print(number)"
      ],
      "metadata": {
        "colab": {
          "base_uri": "https://localhost:8080/"
        },
        "id": "d9EFJq5uwXJe",
        "outputId": "1adb30d0-75fd-4fd2-ea09-31b69c11795f"
      },
      "execution_count": 18,
      "outputs": [
        {
          "output_type": "stream",
          "name": "stdout",
          "text": [
            "5\n",
            "4\n",
            "3\n",
            "2\n",
            "1\n",
            "0\n"
          ]
        }
      ]
    },
    {
      "cell_type": "markdown",
      "source": [
        "Q67. What is the purpose of a getter method in Python? Provide an example demonstrating the use of a getter method using property decorators.\n",
        "\n",
        "In Python, a getter method is used to access the value of a private attribute in a class. The primary purpose of a getter is to provide controlled access to an object's attributes while maintaining encapsulation. By using getter methods, you can perform additional logic or validation when accessing the attribute, allowing for better data integrity and flexibility."
      ],
      "metadata": {
        "id": "O7lJmp37wfk4"
      }
    },
    {
      "cell_type": "code",
      "source": [
        "class Rectangle:\n",
        "    def __init__(self, width, height):\n",
        "        self._width = width\n",
        "        self._height = height\n",
        "    @property\n",
        "    def width(self):\n",
        "        \"\"\"Getter for the width attribute.\"\"\"\n",
        "        return self._width\n",
        "    @property\n",
        "    def height(self):\n",
        "        \"\"\"Getter for the height attribute.\"\"\"\n",
        "        return self._height\n",
        "    @property\n",
        "    def area(self):\n",
        "        \"\"\"Computed property that calculates the area of the rectangle.\"\"\"\n",
        "        return self._width * self._height\n",
        "\n",
        "rect = Rectangle(5, 10)\n",
        "print(f\"Width: {rect.width}\")\n",
        "print(f\"Height: {rect.height}\")\n",
        "print(f\"Area: {rect.area}\")"
      ],
      "metadata": {
        "colab": {
          "base_uri": "https://localhost:8080/"
        },
        "id": "LGtcnLAAwnXJ",
        "outputId": "700b846d-22ac-4038-f33a-a0abd20705c1"
      },
      "execution_count": 19,
      "outputs": [
        {
          "output_type": "stream",
          "name": "stdout",
          "text": [
            "Width: 5\n",
            "Height: 10\n",
            "Area: 50\n"
          ]
        }
      ]
    },
    {
      "cell_type": "markdown",
      "source": [
        "Q68. Explain the role of setter methods in Python. Demonstrate how to use a setter method to modify a class attribute using property decorators.\n",
        "\n",
        "In Python, setter methods are used to modify the values of private attributes in a class. The primary role of a setter is to provide controlled access to an object's attributes while maintaining encapsulation. By using setter methods, you can implement validation, type checking, or any additional logic required before changing the attribute's value."
      ],
      "metadata": {
        "id": "EHhi_4oXwxOV"
      }
    },
    {
      "cell_type": "code",
      "source": [
        "class Rectangle:\n",
        "    def __init__(self, width, height):\n",
        "        self._width = width\n",
        "        self._height = height\n",
        "    @property\n",
        "    def width(self):\n",
        "        \"\"\"Getter for the width attribute.\"\"\"\n",
        "        return self._width\n",
        "    @width.setter\n",
        "    def width(self, value):\n",
        "        \"\"\"Setter for the width attribute.\"\"\"\n",
        "        if value < 0:\n",
        "            raise ValueError(\"Width cannot be negative.\")\n",
        "        self._width = value\n",
        "    @property\n",
        "    def height(self):\n",
        "        \"\"\"Getter for the height attribute.\"\"\"\n",
        "        return self._height\n",
        "    @height.setter\n",
        "    def height(self, value):\n",
        "        \"\"\"Setter for the height attribute.\"\"\"\n",
        "        if value < 0:\n",
        "            raise ValueError(\"Height cannot be negative.\")\n",
        "        self._height = value\n",
        "    @property\n",
        "    def area(self):\n",
        "        \"\"\"Computed property that calculates the area of the rectangle.\"\"\"\n",
        "        return self._width * self._height\n",
        "\n",
        "rect = Rectangle(5, 10)\n",
        "print(f\"Initial Width: {rect.width}\")\n",
        "print(f\"Initial Height: {rect.height}\")\n",
        "rect.width = 7\n",
        "rect.height = 12\n",
        "print(f\"Updated Width: {rect.width}\")\n",
        "print(f\"Updated Height: {rect.height}\")\n",
        "print(f\"Area: {rect.area}\")\n",
        "try:\n",
        "    rect.width = -3\n",
        "except ValueError as e:\n",
        "    print(e)"
      ],
      "metadata": {
        "colab": {
          "base_uri": "https://localhost:8080/"
        },
        "id": "NWrLXa0aw4sS",
        "outputId": "8a5efe26-3cca-478e-a13a-9ad9db06bacb"
      },
      "execution_count": 20,
      "outputs": [
        {
          "output_type": "stream",
          "name": "stdout",
          "text": [
            "Initial Width: 5\n",
            "Initial Height: 10\n",
            "Updated Width: 7\n",
            "Updated Height: 12\n",
            "Area: 84\n",
            "Width cannot be negative.\n"
          ]
        }
      ]
    },
    {
      "cell_type": "markdown",
      "source": [
        "Q69. What is the purpose of the @property decorator in Python? Provide an example illustrating its usage.\n",
        "\n",
        "The @property decorator in Python is used to define a method as a property, allowing you to access it like an attribute while encapsulating its behavior. This decorator enables you to create getter methods for private attributes, allowing controlled access to their values. Additionally, it allows you to define setters and deleters for those properties, thus providing a complete interface for attribute management."
      ],
      "metadata": {
        "id": "ghglcgJJxHP3"
      }
    },
    {
      "cell_type": "code",
      "source": [
        "import math\n",
        "\n",
        "class Circle:\n",
        "    def __init__(self, radius):\n",
        "        self._radius = radius\n",
        "    @property\n",
        "    def radius(self):\n",
        "        \"\"\"Getter for the radius attribute.\"\"\"\n",
        "        return self._radius\n",
        "    @radius.setter\n",
        "    def radius(self, value):\n",
        "        \"\"\"Setter for the radius attribute.\"\"\"\n",
        "        if value < 0:\n",
        "            raise ValueError(\"Radius cannot be negative.\")\n",
        "        self._radius = value\n",
        "    @property\n",
        "    def area(self):\n",
        "        \"\"\"Computed property that calculates the area of the circle.\"\"\"\n",
        "        return math.pi * (self._radius ** 2)\n",
        "\n",
        "circle = Circle(5)\n",
        "print(f\"Radius: {circle.radius}\")\n",
        "print(f\"Area: {circle.area}\")\n",
        "circle.radius = 10\n",
        "print(f\"Updated Radius: {circle.radius}\")\n",
        "print(f\"Updated Area: {circle.area}\")\n",
        "try:\n",
        "    circle.radius = -2\n",
        "except ValueError as e:\n",
        "    print(e)"
      ],
      "metadata": {
        "colab": {
          "base_uri": "https://localhost:8080/"
        },
        "id": "nBxHCMX5xOBf",
        "outputId": "86c7d39e-d5af-4c53-d045-12dd6e87ac79"
      },
      "execution_count": 21,
      "outputs": [
        {
          "output_type": "stream",
          "name": "stdout",
          "text": [
            "Radius: 5\n",
            "Area: 78.53981633974483\n",
            "Updated Radius: 10\n",
            "Updated Area: 314.1592653589793\n",
            "Radius cannot be negative.\n"
          ]
        }
      ]
    },
    {
      "cell_type": "markdown",
      "source": [
        "Q70. Explain the use of the @deleter decorator in Python property decorators. Provide a code example demonstrating its application.\n",
        "\n",
        "The @deleter decorator in Python is used in conjunction with the @property decorator to define a method that deletes an attribute. This allows you to control the deletion of a property, providing an opportunity to implement validation or additional logic when an attribute is deleted."
      ],
      "metadata": {
        "id": "uIw0S7vFxce_"
      }
    },
    {
      "cell_type": "code",
      "source": [
        "class Book:\n",
        "    def __init__(self, title, author):\n",
        "        self._title = title\n",
        "        self._author = author\n",
        "    @property\n",
        "    def title(self):\n",
        "        \"\"\"Getter for the title.\"\"\"\n",
        "        return self._title\n",
        "\n",
        "    @title.setter\n",
        "    def title(self, value):\n",
        "        \"\"\"Setter for the title.\"\"\"\n",
        "        if not value:\n",
        "            raise ValueError(\"Title cannot be empty.\")\n",
        "        self._title = value\n",
        "\n",
        "    @title.deleter\n",
        "    def title(self):\n",
        "        \"\"\"Deleter for the title.\"\"\"\n",
        "        print(f\"Deleting title '{self._title}'\")\n",
        "        del self._title\n",
        "\n",
        "    @property\n",
        "    def author(self):\n",
        "        \"\"\"Getter for the author.\"\"\"\n",
        "        return self._author\n",
        "\n",
        "    @author.setter\n",
        "    def author(self, value):\n",
        "        \"\"\"Setter for the author.\"\"\"\n",
        "        if not value:\n",
        "            raise ValueError(\"Author cannot be empty.\")\n",
        "        self._author = value\n",
        "\n",
        "book = Book(\"1984\", \"George Orwell\")\n",
        "print(f\"Title: {book.title}\")\n",
        "print(f\"Author: {book.author}\")\n",
        "del book.title\n",
        "try:\n",
        "    print(book.title)\n",
        "except AttributeError as e:\n",
        "    print(e)"
      ],
      "metadata": {
        "colab": {
          "base_uri": "https://localhost:8080/"
        },
        "id": "gI7NxfD_xlHp",
        "outputId": "5e23325e-2efc-48b3-8623-2531b6ad1fa6"
      },
      "execution_count": 22,
      "outputs": [
        {
          "output_type": "stream",
          "name": "stdout",
          "text": [
            "Title: 1984\n",
            "Author: George Orwell\n",
            "Deleting title '1984'\n",
            "'Book' object has no attribute '_title'\n"
          ]
        }
      ]
    },
    {
      "cell_type": "markdown",
      "source": [
        "Q71. How does encapsulation relate to property decorators in Python? Provide an example showcasing encapsulation using property decorators.\n",
        "\n",
        "Encapsulation is one of the fundamental principles of object-oriented programming (OOP). It involves bundling the data (attributes) and methods (functions) that operate on the data into a single unit, typically a class. It also restricts direct access to some of the object's components, which is crucial for maintaining the integrity of the data. In Python, encapsulation is often achieved through the use of private attributes and property decorators, which provide controlled access to these attributes."
      ],
      "metadata": {
        "id": "Y9hDTEvCxyH_"
      }
    },
    {
      "cell_type": "code",
      "source": [
        "class Person:\n",
        "    def __init__(self, name, age):\n",
        "        self._name = name\n",
        "        self._age = age\n",
        "\n",
        "    @property\n",
        "    def name(self):\n",
        "        \"\"\"Getter for the name attribute.\"\"\"\n",
        "        return self._name\n",
        "\n",
        "    @name.setter\n",
        "    def name(self, value):\n",
        "        \"\"\"Setter for the name attribute.\"\"\"\n",
        "        if not value:\n",
        "            raise ValueError(\"Name cannot be empty.\")\n",
        "        self._name = value\n",
        "\n",
        "    @property\n",
        "    def age(self):\n",
        "        \"\"\"Getter for the age attribute.\"\"\"\n",
        "        return self._age\n",
        "\n",
        "    @age.setter\n",
        "    def age(self, value):\n",
        "        \"\"\"Setter for the age attribute.\"\"\"\n",
        "        if value < 0:\n",
        "            raise ValueError(\"Age cannot be negative.\")\n",
        "        self._age = value\n",
        "\n",
        "person = Person(\"Alice\", 30)\n",
        "print(f\"Name: {person.name}\")\n",
        "print(f\"Age: {person.age}\")\n",
        "person.name = \"Bob\"\n",
        "person.age = 35\n",
        "print(f\"Updated Name: {person.name}\")\n",
        "print(f\"Updated Age: {person.age}\")\n",
        "try:\n",
        "    person.name = \"\"\n",
        "except ValueError as e:\n",
        "    print(e)\n",
        "try:\n",
        "    person.age = -5\n",
        "except ValueError as e:\n",
        "    print(e)"
      ],
      "metadata": {
        "colab": {
          "base_uri": "https://localhost:8080/"
        },
        "id": "DK5aHO7cx5Qn",
        "outputId": "84537c8a-cbf1-4fda-9fb2-a5f96c61ea8b"
      },
      "execution_count": 23,
      "outputs": [
        {
          "output_type": "stream",
          "name": "stdout",
          "text": [
            "Name: Alice\n",
            "Age: 30\n",
            "Updated Name: Bob\n",
            "Updated Age: 35\n",
            "Name cannot be empty.\n",
            "Age cannot be negative.\n"
          ]
        }
      ]
    }
  ]
}